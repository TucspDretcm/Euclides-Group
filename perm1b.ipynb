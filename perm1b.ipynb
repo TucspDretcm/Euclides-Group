{
  "nbformat": 4,
  "nbformat_minor": 0,
  "metadata": {
    "colab": {
      "name": "perm1b.ipynb",
      "provenance": [],
      "collapsed_sections": [
        "XvE0Pe3aXbnm",
        "P8I6CyzU9on1"
      ],
      "include_colab_link": true
    },
    "kernelspec": {
      "name": "python3",
      "display_name": "Python 3"
    },
    "language_info": {
      "name": "python"
    }
  },
  "cells": [
    {
      "cell_type": "markdown",
      "metadata": {
        "id": "view-in-github",
        "colab_type": "text"
      },
      "source": [
        "<a href=\"https://colab.research.google.com/github/TucspDretcm/Euclides-Group/blob/main/perm1b.ipynb\" target=\"_parent\"><img src=\"https://colab.research.google.com/assets/colab-badge.svg\" alt=\"Open In Colab\"/></a>"
      ]
    },
    {
      "cell_type": "markdown",
      "source": [
        "<h1><b><u>Algebra Abstracta</u></b></h1>\n",
        "2022-1\n",
        "\n",
        "Permanente 1b\n",
        "\n",
        "<h2>Integrantes:</h2>\n",
        "\n",
        "*   Gabriel Ivan Rodriguez Postigo\n",
        "*   Jaime Mateo Gutiérrez Muñoz\n",
        "*   Alexander Carpio Mamani\n"
      ],
      "metadata": {
        "id": "5xzlR3_EEQev"
      }
    },
    {
      "cell_type": "markdown",
      "source": [
        "# 1) Algoritmo de Euclides"
      ],
      "metadata": {
        "id": "XvE0Pe3aXbnm"
      }
    },
    {
      "cell_type": "code",
      "execution_count": 1,
      "metadata": {
        "id": "RXCo1YFXWRaw"
      },
      "outputs": [],
      "source": [
        "import time\n",
        "\n",
        "def Euclides(a, b):\n",
        "  if b == 0:\n",
        "    return a\n",
        "  else:\n",
        "    return Euclides(b, a%b)\n"
      ]
    },
    {
      "cell_type": "code",
      "source": [
        "begin = time.time()   # tiempo inicial\n",
        "Euclides(3,5)\n",
        "print(\"Tiempo = {:.3f}s\".format(time.time() - begin))   # tiempo inicial - tiempo actual = tiempo total en correr el algoritmo de Euclides."
      ],
      "metadata": {
        "colab": {
          "base_uri": "https://localhost:8080/"
        },
        "id": "wBbyid15WYO2",
        "outputId": "85ed65d5-0577-42d5-d7cb-60c2fedfe89e"
      },
      "execution_count": 2,
      "outputs": [
        {
          "output_type": "stream",
          "name": "stdout",
          "text": [
            "Tiempo = 0.000s\n"
          ]
        }
      ]
    },
    {
      "cell_type": "markdown",
      "source": [
        "Hay varias formas para calcular el tiempo de un algoritmo, como la O-big, O(n^2), etc.\n",
        "\n",
        "pero cada una de esas funciones son para determinados problemas, ejemplo la O(n^2) para problemas binarios recursivos.\n",
        "\n",
        "usando las propiedades usadas el día viernes:\n",
        "\n",
        "<img src=\"https://github.com/TucspDretcm/Euclides-Group/blob/main/propiedades.JPG?raw=true\">\n",
        "\n",
        "podemos decir que \"a >= $F_{k+2}$  y b >= $F_{k+1}$\"\n",
        "\n",
        "\n",
        "Donde: \n",
        "\n",
        "\n",
        "<h4>$F_{k} \\approx F_{k+1} \\approx F_{k+2} \\approx \\frac{1+\\sqrt{5}}{2} \\approx \\frac{\\varphi^k}{\\sqrt{5}}$</h4>\n"
      ],
      "metadata": {
        "id": "rTULKT0dzUqp"
      }
    },
    {
      "cell_type": "code",
      "source": [
        "import math\n",
        "\n",
        "aureo = (1 + math.sqrt(5)) /2\n",
        "print(aureo)"
      ],
      "metadata": {
        "colab": {
          "base_uri": "https://localhost:8080/"
        },
        "id": "mBzzgi0szS3D",
        "outputId": "de5402f7-d9da-4562-9aed-43e1542e1bf8"
      },
      "execution_count": 4,
      "outputs": [
        {
          "output_type": "stream",
          "name": "stdout",
          "text": [
            "1.618033988749895\n"
          ]
        }
      ]
    },
    {
      "cell_type": "code",
      "source": [
        "n = 8\n",
        "print(\"F({:d}) = {:f}\".format(n, pow(aureo,n)/math.sqrt(5)))"
      ],
      "metadata": {
        "colab": {
          "base_uri": "https://localhost:8080/"
        },
        "id": "oNsD2eRw5jkn",
        "outputId": "eacd5d31-fa96-4192-f87a-4bad06122471"
      },
      "execution_count": 24,
      "outputs": [
        {
          "output_type": "stream",
          "name": "stdout",
          "text": [
            "F(8) = 21.009519\n"
          ]
        }
      ]
    },
    {
      "cell_type": "markdown",
      "source": [
        "<img src=\"https://github.com/TucspDretcm/Euclides-Group/blob/main/conclusion.JPG?raw=true\">\n",
        "\n",
        "Entonces O(log(min(a, b))) será la función que calculará el tiempo computacional del algoritmo de Euclides en uno de sus peores casos."
      ],
      "metadata": {
        "id": "NKjzRwXPJYV7"
      }
    },
    {
      "cell_type": "code",
      "source": [
        "def time_O(a,b):\n",
        "  return math.log(min(a, b))   # log en base \"e\" el numero de euler 2.71..."
      ],
      "metadata": {
        "id": "EI9pt5uEKB6L"
      },
      "execution_count": 34,
      "outputs": []
    },
    {
      "cell_type": "code",
      "source": [
        "import random\n",
        "n_numeros = 100\n",
        "numeros_prueba = [(random.randint(0,1000),random.randint(0,1000)) for i in range(n_numeros)]"
      ],
      "metadata": {
        "id": "ER-x2ykxLUsa"
      },
      "execution_count": 51,
      "outputs": []
    },
    {
      "cell_type": "code",
      "source": [
        "promedio = 0.0\n",
        "for conjunto in numeros_prueba:\n",
        "  promedio += time_O(conjunto[0], conjunto[1])\n",
        "\n",
        "promedio /= n_numeros\n",
        "print(\" Para una prueba de {:d} números el tiempo promedio es {:f}\".format(n_numeros, promedio))"
      ],
      "metadata": {
        "colab": {
          "base_uri": "https://localhost:8080/"
        },
        "id": "SLS0_BSILzAk",
        "outputId": "6b5c9243-580f-4e6d-dbf8-00ced121967f"
      },
      "execution_count": 54,
      "outputs": [
        {
          "output_type": "stream",
          "name": "stdout",
          "text": [
            " Para una prueba de 100 números el tiempo promedio es 5.527193\n"
          ]
        }
      ]
    },
    {
      "cell_type": "markdown",
      "source": [
        "# 2) Implementar el Algoritmo Extendido de Euclides"
      ],
      "metadata": {
        "id": "P8I6CyzU9on1"
      }
    },
    {
      "cell_type": "code",
      "source": [
        "def Ext_Euclides(a, b):\n",
        "  if b == 0:\n",
        "    return (a, 1, 0)\n",
        "  else:\n",
        "    d, x_, y_ = Ext_Euclides(b, a%b)\n",
        "    x, y = y_, x_ - int(a/b)*y_\n",
        "    return (d, x, y)"
      ],
      "metadata": {
        "id": "wy7xFL6J-dXB"
      },
      "execution_count": null,
      "outputs": []
    },
    {
      "cell_type": "code",
      "source": [
        "print(Ext_Euclides(24, 18))\n",
        "print(Ext_Euclides(13, 8))"
      ],
      "metadata": {
        "colab": {
          "base_uri": "https://localhost:8080/"
        },
        "id": "Ku50kAqRFr7Y",
        "outputId": "2cbb666c-ad7c-4cf1-c319-316bc89df12b"
      },
      "execution_count": null,
      "outputs": [
        {
          "output_type": "stream",
          "name": "stdout",
          "text": [
            "(6, 1, -1)\n",
            "(1, -3, 5)\n"
          ]
        }
      ]
    },
    {
      "cell_type": "code",
      "source": [
        "data = []\n",
        "\n",
        "def Ext_Euclides_data(a,b):\n",
        "  if b == 0:\n",
        "    data.append([a,0,a,1,0])\n",
        "    return (a,1,0)\n",
        "  else:\n",
        "    d, x_, y_ = Ext_Euclides_data(b, a%b)\n",
        "    x, y = y_, x_ - int(a/b)*y_\n",
        "    data.append([a,b,d,x,y])\n",
        "    return (d, x, y)\n",
        "\n",
        "def Ext_Euclides_Printer(a, b):\n",
        "  data.clear()\n",
        "  Ext_Euclides_data(a,b)\n",
        "  print(\"A\\t|B\\t|D\\t|X'\\t|Y'\")\n",
        "  for i in data[::-1]:\n",
        "    print(\"{:d}\\t|{:d}\\t|{:d}\\t|{:d}\\t|{:d}\".format(*i))"
      ],
      "metadata": {
        "id": "kFwlS2W3J6xn"
      },
      "execution_count": null,
      "outputs": []
    },
    {
      "cell_type": "code",
      "source": [
        "Ext_Euclides_Printer(24, 18)"
      ],
      "metadata": {
        "colab": {
          "base_uri": "https://localhost:8080/"
        },
        "id": "bjucNeVYHXRR",
        "outputId": "24fa346f-0087-4bf6-e2f3-f97e2b08a301"
      },
      "execution_count": null,
      "outputs": [
        {
          "output_type": "stream",
          "name": "stdout",
          "text": [
            "A\t|B\t|D\t|X'\t|Y'\n",
            "24\t|18\t|6\t|1\t|-1\n",
            "18\t|6\t|6\t|0\t|1\n",
            "6\t|0\t|6\t|1\t|0\n"
          ]
        }
      ]
    },
    {
      "cell_type": "code",
      "source": [
        "Ext_Euclides_Printer(13, 8)"
      ],
      "metadata": {
        "colab": {
          "base_uri": "https://localhost:8080/"
        },
        "id": "zQktCaTEHTCc",
        "outputId": "dbada3e5-7579-4506-ddc5-6cb9e86f0b96"
      },
      "execution_count": null,
      "outputs": [
        {
          "output_type": "stream",
          "name": "stdout",
          "text": [
            "A\t|B\t|D\t|X'\t|Y'\n",
            "13\t|8\t|1\t|-3\t|5\n",
            "8\t|5\t|1\t|2\t|-3\n",
            "5\t|3\t|1\t|-1\t|2\n",
            "3\t|2\t|1\t|1\t|-1\n",
            "2\t|1\t|1\t|0\t|1\n",
            "1\t|0\t|1\t|1\t|0\n"
          ]
        }
      ]
    },
    {
      "cell_type": "markdown",
      "source": [
        "<h3>Resolver las siguientes Ecuaciones Diofánticas Lineales y colocar sus resultados en el documento:</h3>\n",
        "<h4>Ec.1 : 128x + 134y = 2\n",
        "</h4>"
      ],
      "metadata": {
        "id": "n70r5HjtuGGQ"
      }
    },
    {
      "cell_type": "code",
      "source": [
        "Ext_Euclides_Printer(128,134)"
      ],
      "metadata": {
        "colab": {
          "base_uri": "https://localhost:8080/"
        },
        "id": "jUWQ5ejTty_4",
        "outputId": "56b67ad7-8f59-4615-e01d-a6bbb3d98a75"
      },
      "execution_count": null,
      "outputs": [
        {
          "output_type": "stream",
          "name": "stdout",
          "text": [
            "A\t|B\t|D\t|X'\t|Y'\n",
            "128\t|134\t|2\t|22\t|-21\n",
            "134\t|128\t|2\t|-21\t|22\n",
            "128\t|6\t|2\t|1\t|-21\n",
            "6\t|2\t|2\t|0\t|1\n",
            "2\t|0\t|2\t|1\t|0\n"
          ]
        }
      ]
    },
    {
      "cell_type": "markdown",
      "source": [
        "<h4>Ec.2 : 311x + 337y = 7</h4>"
      ],
      "metadata": {
        "id": "xyk9m-lUvjJP"
      }
    },
    {
      "cell_type": "code",
      "source": [
        "Ext_Euclides_Printer(311, 337)"
      ],
      "metadata": {
        "colab": {
          "base_uri": "https://localhost:8080/"
        },
        "id": "IEPiWDEQuLkw",
        "outputId": "dfe70dcd-06e2-4750-e86a-ccfc5dcf95a4"
      },
      "execution_count": null,
      "outputs": [
        {
          "output_type": "stream",
          "name": "stdout",
          "text": [
            "A\t|B\t|D\t|X'\t|Y'\n",
            "311\t|337\t|1\t|-13\t|12\n",
            "337\t|311\t|1\t|12\t|-13\n",
            "311\t|26\t|1\t|-1\t|12\n",
            "26\t|25\t|1\t|1\t|-1\n",
            "25\t|1\t|1\t|0\t|1\n",
            "1\t|0\t|1\t|1\t|0\n"
          ]
        }
      ]
    },
    {
      "cell_type": "markdown",
      "source": [
        "<h4>Ec.3 : 991x + 997y = −2</h4>"
      ],
      "metadata": {
        "id": "qBOulOfQvoTu"
      }
    },
    {
      "cell_type": "code",
      "source": [
        "Ext_Euclides_Printer(991, 997)"
      ],
      "metadata": {
        "colab": {
          "base_uri": "https://localhost:8080/"
        },
        "id": "Dge2gTravQ9d",
        "outputId": "5d08ba00-c4d9-466e-865e-df30e28b69de"
      },
      "execution_count": null,
      "outputs": [
        {
          "output_type": "stream",
          "name": "stdout",
          "text": [
            "A\t|B\t|D\t|X'\t|Y'\n",
            "991\t|997\t|1\t|166\t|-165\n",
            "997\t|991\t|1\t|-165\t|166\n",
            "991\t|6\t|1\t|1\t|-165\n",
            "6\t|1\t|1\t|0\t|1\n",
            "1\t|0\t|1\t|1\t|0\n"
          ]
        }
      ]
    }
  ]
}